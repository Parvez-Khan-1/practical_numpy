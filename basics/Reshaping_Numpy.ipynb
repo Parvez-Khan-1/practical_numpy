{
 "cells": [
  {
   "cell_type": "code",
   "execution_count": 1,
   "metadata": {},
   "outputs": [],
   "source": [
    "import numpy as np"
   ]
  },
  {
   "cell_type": "code",
   "execution_count": 2,
   "metadata": {},
   "outputs": [],
   "source": [
    "matrix = np.random.random((3, 4))"
   ]
  },
  {
   "cell_type": "code",
   "execution_count": 3,
   "metadata": {},
   "outputs": [
    {
     "data": {
      "text/plain": [
       "(3, 4)"
      ]
     },
     "execution_count": 3,
     "metadata": {},
     "output_type": "execute_result"
    }
   ],
   "source": [
    "matrix.shape"
   ]
  },
  {
   "cell_type": "code",
   "execution_count": 13,
   "metadata": {},
   "outputs": [
    {
     "name": "stdout",
     "output_type": "stream",
     "text": [
      "[0.93509024 0.9416055  0.73106219 0.17226585 0.12109589 0.79493519\n",
      " 0.6302986  0.34141565 0.14255293 0.6041127  0.65840098 0.19672081]\n"
     ]
    }
   ],
   "source": [
    "# Flatten the matrix\n",
    "flat_matrix = matrix.ravel()\n",
    "print(flat_matrix)"
   ]
  },
  {
   "cell_type": "code",
   "execution_count": 14,
   "metadata": {},
   "outputs": [
    {
     "name": "stdout",
     "output_type": "stream",
     "text": [
      "[[0.93509024 0.9416055 ]\n",
      " [0.73106219 0.17226585]\n",
      " [0.12109589 0.79493519]\n",
      " [0.6302986  0.34141565]\n",
      " [0.14255293 0.6041127 ]\n",
      " [0.65840098 0.19672081]]\n"
     ]
    }
   ],
   "source": [
    "reshaped_matrix = matrix.reshape(6, 2)\n",
    "print(reshaped_matrix)"
   ]
  },
  {
   "cell_type": "code",
   "execution_count": 16,
   "metadata": {},
   "outputs": [
    {
     "data": {
      "text/plain": [
       "array([[0.93509024, 0.12109589, 0.14255293],\n",
       "       [0.9416055 , 0.79493519, 0.6041127 ],\n",
       "       [0.73106219, 0.6302986 , 0.65840098],\n",
       "       [0.17226585, 0.34141565, 0.19672081]])"
      ]
     },
     "execution_count": 16,
     "metadata": {},
     "output_type": "execute_result"
    }
   ],
   "source": [
    "# Transpose of a matrix\n",
    "matrix.T"
   ]
  },
  {
   "cell_type": "code",
   "execution_count": 17,
   "metadata": {},
   "outputs": [],
   "source": [
    "# PLEASE NOTE THAT ravel(), reshape() and Transpose T doesnt modify existing array, instead they return a new one"
   ]
  },
  {
   "cell_type": "code",
   "execution_count": 18,
   "metadata": {},
   "outputs": [],
   "source": [
    "# WHERE ndarray.resize() modify the exisiting array it self"
   ]
  },
  {
   "cell_type": "code",
   "execution_count": 19,
   "metadata": {},
   "outputs": [],
   "source": [
    "matrix.resize(6,2)"
   ]
  },
  {
   "cell_type": "code",
   "execution_count": 20,
   "metadata": {},
   "outputs": [
    {
     "data": {
      "text/plain": [
       "(6, 2)"
      ]
     },
     "execution_count": 20,
     "metadata": {},
     "output_type": "execute_result"
    }
   ],
   "source": [
    "matrix.shape"
   ]
  },
  {
   "cell_type": "code",
   "execution_count": 22,
   "metadata": {},
   "outputs": [
    {
     "name": "stdout",
     "output_type": "stream",
     "text": [
      "[[0.93509024 0.9416055  0.73106219]\n",
      " [0.17226585 0.12109589 0.79493519]\n",
      " [0.6302986  0.34141565 0.14255293]\n",
      " [0.6041127  0.65840098 0.19672081]]\n"
     ]
    }
   ],
   "source": [
    "# If a dimension is given as -1 in a reshaping operation, the other dimensions are automatically calculated:\n",
    "new_matrix = matrix.reshape(4, -1)\n",
    "print(new_matrix)"
   ]
  },
  {
   "cell_type": "code",
   "execution_count": null,
   "metadata": {},
   "outputs": [],
   "source": []
  }
 ],
 "metadata": {
  "kernelspec": {
   "display_name": "Python 3",
   "language": "python",
   "name": "python3"
  },
  "language_info": {
   "codemirror_mode": {
    "name": "ipython",
    "version": 3
   },
   "file_extension": ".py",
   "mimetype": "text/x-python",
   "name": "python",
   "nbconvert_exporter": "python",
   "pygments_lexer": "ipython3",
   "version": "3.5.2"
  }
 },
 "nbformat": 4,
 "nbformat_minor": 2
}
